{
 "cells": [
  {
   "cell_type": "code",
   "execution_count": 13,
   "metadata": {},
   "outputs": [
    {
     "name": "stdout",
     "output_type": "stream",
     "text": [
      "5000 12500\n"
     ]
    },
    {
     "data": {
      "text/plain": [
       "0.2999999999999728"
      ]
     },
     "execution_count": 13,
     "metadata": {},
     "output_type": "execute_result"
    }
   ],
   "source": [
    "import matplotlib.pyplot as plt\n",
    "%matplotlib inline\n",
    "import networkx\n",
    "import random\n",
    "\n",
    "def make_randomring(N):\n",
    "    graph = networkx.Graph()\n",
    "    for i in range(N):\n",
    "        graph.add_node(i)\n",
    "    \n",
    "    for i in range(N):\n",
    "        graph.add_edge(i, (i+1)%N)\n",
    "        graph.add_edge(i, (i+2)%N)\n",
    "        \n",
    "    \n",
    "    #adds random edges \n",
    "    all_nodes = list(range(N))\n",
    "    random.shuffle(all_nodes)\n",
    "    while(len(all_nodes) >= 2):\n",
    "        if(graph.has_edge(all_nodes[0], all_nodes[1])):\n",
    "            random.shuffle(all_nodes)\n",
    "        else:\n",
    "            graph.add_edge(all_nodes[0], all_nodes[1])\n",
    "            del all_nodes[0]\n",
    "            del all_nodes[0]\n",
    "    \n",
    "    return graph\n",
    "\n",
    "g = make_randomring(5000)\n",
    "\n",
    "print(g.number_of_nodes(), g.number_of_edges())\n",
    "networkx.average_clustering(g)\n"
   ]
  },
  {
   "cell_type": "code",
   "execution_count": null,
   "metadata": {
    "collapsed": true
   },
   "outputs": [],
   "source": []
  },
  {
   "cell_type": "code",
   "execution_count": null,
   "metadata": {
    "collapsed": true
   },
   "outputs": [],
   "source": []
  }
 ],
 "metadata": {
  "kernelspec": {
   "display_name": "Python 3",
   "language": "python",
   "name": "python3"
  },
  "language_info": {
   "codemirror_mode": {
    "name": "ipython",
    "version": 3
   },
   "file_extension": ".py",
   "mimetype": "text/x-python",
   "name": "python",
   "nbconvert_exporter": "python",
   "pygments_lexer": "ipython3",
   "version": "3.6.1"
  }
 },
 "nbformat": 4,
 "nbformat_minor": 2
}
